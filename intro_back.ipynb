{
    "nbformat_minor": 1, 
    "cells": [
        {
            "source": "### 1.INTRODUCTION", 
            "cell_type": "markdown", 
            "metadata": {
                "collapsed": true
            }
        }, 
        {
            "source": "#### 1.1 Background", 
            "cell_type": "markdown", 
            "metadata": {}
        }, 
        {
            "source": "'Washington DC is among one of those places in United States which are considered as \"NEVER SLEEEPING CITY\". Apart from its crowd , it is the best place\n'for the business owners to start their business and  explore more in the way. Obviously , with the crowd there would be compeitions as well , not only' \n'in business but infact in almost each field / sector.Many factors are taken in account when they make the decision on location: type of boutique,'' \n'closest landmark, accessibility, crime rates, competitors nearby. The decision to open up a boutique in DC can cost up to a couple hundred thousand' \n'dollars, so making the best educated decision will help owners achieve their goals.'\n'With this Capstone, we will be examining the factors that affect boutiques and help owners decide the best place to start their business.'", 
            "cell_type": "markdown", 
            "metadata": {}
        }, 
        {
            "source": "#### 1.2 problem", 
            "cell_type": "markdown", 
            "metadata": {}
        }, 
        {
            "source": "'The problem is to find the best place in DC to open boutique by taking into considerations all thoose factors which are being pointed out above .\n'Many factors are taken in account when they make the decision on location: type of boutique, closest landmark, accessibility, crime rates, \n'competitors nearby. The decision to open up a boutique in DC can cost up to a couple hundred thousand dollars, so making the best \n'educated decision will help owners achieve their goals. With this Capstone, we will be examining the factors that affect boutiques \n'and help owners decide the best place to start their business.'", 
            "cell_type": "markdown", 
            "metadata": {}
        }, 
        {
            "execution_count": null, 
            "cell_type": "code", 
            "metadata": {}, 
            "outputs": [], 
            "source": ""
        }
    ], 
    "metadata": {
        "kernelspec": {
            "display_name": "Python 3.5", 
            "name": "python3", 
            "language": "python"
        }, 
        "language_info": {
            "mimetype": "text/x-python", 
            "nbconvert_exporter": "python", 
            "version": "3.5.5", 
            "name": "python", 
            "file_extension": ".py", 
            "pygments_lexer": "ipython3", 
            "codemirror_mode": {
                "version": 3, 
                "name": "ipython"
            }
        }
    }, 
    "nbformat": 4
}